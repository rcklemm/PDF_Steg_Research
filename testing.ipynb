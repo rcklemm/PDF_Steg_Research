{
 "cells": [
  {
   "cell_type": "code",
   "execution_count": 32,
   "metadata": {},
   "outputs": [],
   "source": [
    "def extract_bit(str_op: bytes, n: int):\n",
    "    int_op = int(str_op.replace(b\".\",b\"\").replace(b\"-\", b\"\"))\n",
    "    mask = int(\"1\"*n, 2)\n",
    "    return int_op & mask\n",
    "\n",
    "def embed_bit(str_op: bytes, pct: float, n: int, bits: str):\n",
    "    orig = str_op\n",
    "    negative = b\"-\" in str_op\n",
    "    floating_point = b\".\" in str_op\n",
    "    point_loc = len(str_op) if not floating_point else str_op.index(b\".\")\n",
    "    str_op = str_op.replace(b\"-\", b\"\")\n",
    "    \n",
    "    leading_zeroes = 0\n",
    "    if floating_point:\n",
    "        print(str_op.replace(b\".\",b\"\"))\n",
    "        for c in str_op.replace(b\".\", b\"\"):\n",
    "            if c == ord('0'):\n",
    "                leading_zeroes += 1\n",
    "            else:\n",
    "                break\n",
    "    print(leading_zeroes)\n",
    "    int_op = int(str_op.replace(b\".\", b\"\"))\n",
    "    mask = int(bits, 2)\n",
    "    if extract_bit(str_op, n) == mask:\n",
    "        return orig\n",
    "        \n",
    "    # Special case for operator = 0\n",
    "    if int_op == 0:\n",
    "        return b\"0.0\" + bytes(str(int(bits, 2)), 'ascii')\n",
    "    \n",
    "    small_enough_change = False\n",
    "    working_int_op = int_op\n",
    "    print(int_op)\n",
    "    while (not small_enough_change):\n",
    "        new_int_op = working_int_op ^ (working_int_op & int(\"1\"*n, 2))\n",
    "        new_int_op = new_int_op | mask\n",
    "        print(new_int_op)\n",
    "        \n",
    "        if (abs(new_int_op - working_int_op) <= pct*working_int_op):\n",
    "            small_enough_change = True\n",
    "            working_int_op = new_int_op\n",
    "        else:\n",
    "            working_int_op *= 10\n",
    "                \n",
    "    return_str = b\"\"\n",
    "    if negative:\n",
    "        return_str += b\"-\"\n",
    "\n",
    "    print(point_loc)\n",
    "    return_str += b\"0\"*leading_zeroes\n",
    "    return_str += bytes(str(working_int_op), 'ascii')\n",
    "    \n",
    "    if return_str[point_loc:] != b\"\":\n",
    "        return_str = return_str[:point_loc] + b\".\" + return_str[point_loc:]\n",
    "\n",
    "    return return_str"
   ]
  },
  {
   "cell_type": "code",
   "execution_count": 33,
   "metadata": {},
   "outputs": [
    {
     "name": "stdout",
     "output_type": "stream",
     "text": [
      "b'00898'\n",
      "2\n",
      "898\n",
      "900\n",
      "1\n"
     ]
    },
    {
     "data": {
      "text/plain": [
       "b'0.09'"
      ]
     },
     "execution_count": 33,
     "metadata": {},
     "output_type": "execute_result"
    }
   ],
   "source": [
    "embed_bit(b\"0.0898\", 1 / 100.0, 3, \"100\")"
   ]
  },
  {
   "cell_type": "code",
   "execution_count": 31,
   "metadata": {},
   "outputs": [
    {
     "data": {
      "text/plain": [
       "116"
      ]
     },
     "execution_count": 31,
     "metadata": {},
     "output_type": "execute_result"
    }
   ],
   "source": [
    "b\"test\"[-1]"
   ]
  },
  {
   "cell_type": "code",
   "execution_count": null,
   "metadata": {},
   "outputs": [],
   "source": []
  }
 ],
 "metadata": {
  "kernelspec": {
   "display_name": "Python 3.10.6 64-bit",
   "language": "python",
   "name": "python3"
  },
  "language_info": {
   "codemirror_mode": {
    "name": "ipython",
    "version": 3
   },
   "file_extension": ".py",
   "mimetype": "text/x-python",
   "name": "python",
   "nbconvert_exporter": "python",
   "pygments_lexer": "ipython3",
   "version": "3.10.6"
  },
  "orig_nbformat": 4,
  "vscode": {
   "interpreter": {
    "hash": "916dbcbb3f70747c44a77c7bcd40155683ae19c65e1c03b4aa3499c5328201f1"
   }
  }
 },
 "nbformat": 4,
 "nbformat_minor": 2
}
